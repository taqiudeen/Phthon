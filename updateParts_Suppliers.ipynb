{
 "cells": [
  {
   "cell_type": "code",
   "execution_count": 3,
   "id": "a99457dd-0192-4f6a-b12c-86763aa9d747",
   "metadata": {},
   "outputs": [],
   "source": [
    "import mysql.connector\n",
    "import random\n",
    "\n",
    "connect = mysql.connector.connect(\n",
    "    host = \"127.0.0.1\",\n",
    "    user = \"root\",\n",
    "    password = \"\",\n",
    "    database = \"taqwa_corp\"\n",
    "\n",
    ")\n",
    "\n",
    "mycursor = connect.cursor()"
   ]
  },
  {
   "cell_type": "code",
   "execution_count": 5,
   "id": "7a0e4b37-e40f-4329-8e26-824b22dc62c3",
   "metadata": {},
   "outputs": [],
   "source": [
    "pno = 331\n",
    "\n",
    "while pno < 393:\n",
    "    sql = \"UPDATE parts SET sid = %s WHERE PartNo = %s\"\n",
    "    sid = random.randint(770, 783)\n",
    "    val = [sid, pno]\n",
    "    mycursor.execute(sql, val)\n",
    "    connect.commit()\n",
    "    pno = pno + 1\n",
    "   "
   ]
  },
  {
   "cell_type": "code",
   "execution_count": null,
   "id": "ec7b448d-6c8d-47d6-bb0b-8d84a6ed26a2",
   "metadata": {},
   "outputs": [],
   "source": []
  }
 ],
 "metadata": {
  "kernelspec": {
   "display_name": "Python 3 (ipykernel)",
   "language": "python",
   "name": "python3"
  },
  "language_info": {
   "codemirror_mode": {
    "name": "ipython",
    "version": 3
   },
   "file_extension": ".py",
   "mimetype": "text/x-python",
   "name": "python",
   "nbconvert_exporter": "python",
   "pygments_lexer": "ipython3",
   "version": "3.12.4"
  }
 },
 "nbformat": 4,
 "nbformat_minor": 5
}
