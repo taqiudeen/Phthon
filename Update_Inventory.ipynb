{
 "cells": [
  {
   "cell_type": "code",
   "execution_count": 57,
   "id": "177aeaa5-711a-4ee2-b6b8-9d7d887a561d",
   "metadata": {},
   "outputs": [
    {
     "data": {
      "text/plain": [
       "62"
      ]
     },
     "execution_count": 57,
     "metadata": {},
     "output_type": "execute_result"
    }
   ],
   "source": [
    "import pandas as pd\n",
    "import pymysql\n",
    "from sqlalchemy import create_engine\n",
    "\n",
    "engine = create_engine(\"mysql+pymysql://root:@localhost/taqwa_corp?charset=utf8mb4\")\n",
    "\n",
    "dfParts = pd.read_sql(\"SELECT * FROM nparts ORDER BY PartNo \", engine)\n",
    "\n",
    "dfParts = dfParts.reset_index(drop=True)  # make sure indexes pair with number of rows\n",
    "\n",
    "#print(dfParts) # PartNo, INV\n",
    "\n",
    "sql = \"\"\"SELECT invoices.PartNo, COUNT(invoices.PartNo) as TTL \n",
    "FROM invoices \n",
    "JOIN orders ON orders.OID = invoices.OID \n",
    "WHERE orders.oDate <= '2024-09-29'\n",
    "GROUP BY invoices.PartNo \n",
    "ORDER BY invoices.PartNo\"\"\"\n",
    "\n",
    "dfUpdate = pd.read_sql(sql, engine)\n",
    "\n",
    "dfUpdate = dfUpdate.reset_index(drop=True)  # make sure indexes pair with number of rows\n",
    "\n",
    "#print(dfUpdate)\n",
    "\n",
    "#using for iteration and index, updating each value\n",
    "for i in dfParts.index:\n",
    "    dfParts.at[i,'Inv'] = dfParts.at[i,'Inv'] -  dfUpdate.at[i,'TTL']\n",
    "\n",
    "#print(dfParts) # PartNo, INV\n",
    "\n",
    "#considered joining or merging cols and the subtracting and dropping col, but the code aboe was more efficent IMO    \n",
    "\n",
    "dfParts.to_sql(\"nparts\", engine, if_exists=\"replace\", index=False)\n",
    "\n"
   ]
  },
  {
   "cell_type": "code",
   "execution_count": null,
   "id": "0c7c3e99-681e-4ed1-b00c-d55a9cb15d5a",
   "metadata": {},
   "outputs": [],
   "source": []
  }
 ],
 "metadata": {
  "kernelspec": {
   "display_name": "Python 3 (ipykernel)",
   "language": "python",
   "name": "python3"
  },
  "language_info": {
   "codemirror_mode": {
    "name": "ipython",
    "version": 3
   },
   "file_extension": ".py",
   "mimetype": "text/x-python",
   "name": "python",
   "nbconvert_exporter": "python",
   "pygments_lexer": "ipython3",
   "version": "3.11.7"
  }
 },
 "nbformat": 4,
 "nbformat_minor": 5
}
