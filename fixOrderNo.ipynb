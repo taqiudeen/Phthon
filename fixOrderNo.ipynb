{
 "cells": [
  {
   "cell_type": "code",
   "execution_count": 1,
   "id": "07da8763-d840-4c97-a572-4b6ce653e3ab",
   "metadata": {},
   "outputs": [],
   "source": [
    "import mysql.connector\n",
    "\n",
    "connect = mysql.connector.connect(\n",
    "    host = \"127.0.0.1\",\n",
    "    user = \"root\",\n",
    "    password = \"\",\n",
    "    database = \"taqwa_corp\"\n",
    "\n",
    ")\n",
    "\n",
    "mycursor = connect.cursor()"
   ]
  },
  {
   "cell_type": "code",
   "execution_count": 3,
   "id": "30a10e07-243e-42ea-ab22-ecf1221d987d",
   "metadata": {},
   "outputs": [],
   "source": [
    "oid = 1551\n",
    "orderNo = 9553\n",
    "\n",
    "while oid < 1629:\n",
    "    sql = \"UPDATE orders SET OrderNo = %s WHERE OID = %s\"\n",
    "    sid = random.randint(1021, 1370)\n",
    "    val = [orderNo, oid]\n",
    "    mycursor.execute(sql, val)\n",
    "    connect.commit()\n",
    "    oid = oid + 1\n",
    "    orderNo = orderNo + 1\n",
    "    \n",
    "    "
   ]
  },
  {
   "cell_type": "code",
   "execution_count": null,
   "id": "df742b3e-61be-4aaf-a217-27f5f4dc6197",
   "metadata": {},
   "outputs": [],
   "source": []
  }
 ],
 "metadata": {
  "kernelspec": {
   "display_name": "Python 3 (ipykernel)",
   "language": "python",
   "name": "python3"
  },
  "language_info": {
   "codemirror_mode": {
    "name": "ipython",
    "version": 3
   },
   "file_extension": ".py",
   "mimetype": "text/x-python",
   "name": "python",
   "nbconvert_exporter": "python",
   "pygments_lexer": "ipython3",
   "version": "3.12.4"
  }
 },
 "nbformat": 4,
 "nbformat_minor": 5
}
