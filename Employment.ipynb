{
 "cells": [
  {
   "cell_type": "code",
   "execution_count": 3,
   "id": "f135cf44-2631-495c-9020-a21e59373d7d",
   "metadata": {},
   "outputs": [],
   "source": [
    "import pandas as pd\n",
    "import re as regex\n",
    "import seaborn as sns\n",
    "import matplotlib.pyplot as plt\n",
    "import numpy as np"
   ]
  },
  {
   "cell_type": "code",
   "execution_count": 4,
   "id": "0461d5d0-84b1-444c-8bef-55b85b06e2fc",
   "metadata": {},
   "outputs": [],
   "source": [
    "#County Employment and Wages in Wisconsin — Third Quarter 2023\n",
    "#https://www.bls.gov/regions/midwest/news-release/countyemploymentandwages_wisconsin.htm\n",
    "empD = pd.read_csv(r'C:\\Users\\taqiu\\OneDrive\\dataForSQL\\WI_County.csv', encoding = 'ISO-8859-1')\n",
    "\n",
    "#https://www.dhs.wisconsin.gov/aboutdhs/regions.htm region informaiton for Wisconsin Counties \n",
    "regD = pd.read_csv(r'C:\\Users\\taqiu\\OneDrive\\dataForSQL\\WI_County_Reg.csv')"
   ]
  },
  {
   "cell_type": "code",
   "execution_count": 5,
   "id": "fd23874d-d06b-4a65-81dc-5d2cfac37717",
   "metadata": {},
   "outputs": [],
   "source": [
    "empD = empD.rename( columns= {'Area' : 'County'})\n",
    "#prepare to combine the two DataFrames by changing the column names to match "
   ]
  },
  {
   "cell_type": "code",
   "execution_count": 6,
   "id": "43ef9cae-ae7a-48bd-8c18-9510b2cd3eed",
   "metadata": {},
   "outputs": [],
   "source": [
    "empD = empD.merge(regD)\n",
    "#comibined both data froms"
   ]
  },
  {
   "cell_type": "code",
   "execution_count": 7,
   "id": "b6999edd-c56a-4c19-b04e-e3a6f46bb97d",
   "metadata": {},
   "outputs": [],
   "source": [
    "empD['Average weekly wage ($)'] = empD['Average weekly wage ($)'].replace(',','', regex=True)\n",
    "#remove comma from column before conversion"
   ]
  },
  {
   "cell_type": "code",
   "execution_count": 8,
   "id": "864a1401-2baa-452d-9328-8d24c100cfbc",
   "metadata": {},
   "outputs": [],
   "source": [
    "empD['Average weekly wage ($)'] = (empD['Average weekly wage ($)']).astype(int)\n",
    "#convert col from string to int"
   ]
  },
  {
   "cell_type": "code",
   "execution_count": 15,
   "id": "c9ffd0b7-ec3c-4625-b841-96d4185da078",
   "metadata": {},
   "outputs": [
    {
     "data": {
      "text/html": [
       "<div>\n",
       "<style scoped>\n",
       "    .dataframe tbody tr th:only-of-type {\n",
       "        vertical-align: middle;\n",
       "    }\n",
       "\n",
       "    .dataframe tbody tr th {\n",
       "        vertical-align: top;\n",
       "    }\n",
       "\n",
       "    .dataframe thead th {\n",
       "        text-align: right;\n",
       "    }\n",
       "</style>\n",
       "<table border=\"1\" class=\"dataframe\">\n",
       "  <thead>\n",
       "    <tr style=\"text-align: right;\">\n",
       "      <th></th>\n",
       "      <th>Region</th>\n",
       "      <th>Average weekly wage ($)</th>\n",
       "    </tr>\n",
       "  </thead>\n",
       "  <tbody>\n",
       "    <tr>\n",
       "      <th>0</th>\n",
       "      <td>SE</td>\n",
       "      <td>1066.375000</td>\n",
       "    </tr>\n",
       "    <tr>\n",
       "      <th>1</th>\n",
       "      <td>S</td>\n",
       "      <td>957.714286</td>\n",
       "    </tr>\n",
       "    <tr>\n",
       "      <th>2</th>\n",
       "      <td>NE</td>\n",
       "      <td>949.411765</td>\n",
       "    </tr>\n",
       "    <tr>\n",
       "      <th>3</th>\n",
       "      <td>W</td>\n",
       "      <td>930.777778</td>\n",
       "    </tr>\n",
       "    <tr>\n",
       "      <th>4</th>\n",
       "      <td>N</td>\n",
       "      <td>880.600000</td>\n",
       "    </tr>\n",
       "  </tbody>\n",
       "</table>\n",
       "</div>"
      ],
      "text/plain": [
       "  Region  Average weekly wage ($)\n",
       "0     SE              1066.375000\n",
       "1      S               957.714286\n",
       "2     NE               949.411765\n",
       "3      W               930.777778\n",
       "4      N               880.600000"
      ]
     },
     "execution_count": 15,
     "metadata": {},
     "output_type": "execute_result"
    }
   ],
   "source": [
    "empPlt = empD.groupby('Region')['Average weekly wage ($)'].mean().sort_values(ascending = False).reset_index()\n",
    "empPlt"
   ]
  },
  {
   "cell_type": "code",
   "execution_count": 17,
   "id": "037186ca-b8ee-44d8-bf92-32961b7c5ad7",
   "metadata": {},
   "outputs": [
    {
     "data": {
      "text/plain": [
       "Text(0.5, 1.0, 'Wisconsin Average Weekly Wage by Region')"
      ]
     },
     "execution_count": 17,
     "metadata": {},
     "output_type": "execute_result"
    },
    {
     "data": {
      "image/png": "[encoded data removed]",
      "text/plain": [
       "<Figure size 640x480 with 1 Axes>"
      ]
     },
     "metadata": {},
     "output_type": "display_data"
    }
   ],
   "source": [
    "sns.set_style('darkgrid')\n",
    "sns.barplot(empPlt, x='Region', y='Average weekly wage ($)', saturation=0.25 )\n",
    "plt.title('Wisconsin Average Weekly Wage by Region')\n",
    "#plt.plot()\n",
    "#.sort_values('Average weekly wage ($)', ascending=False, inplace=True )"
   ]
  },
  {
   "cell_type": "code",
   "execution_count": null,
   "id": "526af1d6-3f32-478c-9b48-741afd3a2238",
   "metadata": {},
   "outputs": [],
   "source": []
  }
 ],
 "metadata": {
  "kernelspec": {
   "display_name": "Python 3 (ipykernel)",
   "language": "python",
   "name": "python3"
  },
  "language_info": {
   "codemirror_mode": {
    "name": "ipython",
    "version": 3
   },
   "file_extension": ".py",
   "mimetype": "text/x-python",
   "name": "python",
   "nbconvert_exporter": "python",
   "pygments_lexer": "ipython3",
   "version": "3.11.7"
  }
 },
 "nbformat": 4,
 "nbformat_minor": 5
}
